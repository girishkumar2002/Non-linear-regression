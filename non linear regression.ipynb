{
 "cells": [
  {
   "cell_type": "markdown",
   "id": "875be610-48be-4a78-8a7f-0a32e6f0bcdf",
   "metadata": {},
   "source": [
    "**Non-Linear Regression**\n",
    "\n",
    "*yh = w0 + w1x1 + w2x2 +....+ wnxn => linear regression* and\n",
    "*yh = w0 + w1x1 + w2x2 + w3x1x2 => non-linear*"
   ]
  },
  {
   "cell_type": "code",
   "execution_count": 2,
   "id": "2300f168-6004-4905-82fa-d362c749db10",
   "metadata": {},
   "outputs": [
    {
     "data": {
      "text/html": [
       "<div>\n",
       "<style scoped>\n",
       "    .dataframe tbody tr th:only-of-type {\n",
       "        vertical-align: middle;\n",
       "    }\n",
       "\n",
       "    .dataframe tbody tr th {\n",
       "        vertical-align: top;\n",
       "    }\n",
       "\n",
       "    .dataframe thead th {\n",
       "        text-align: right;\n",
       "    }\n",
       "</style>\n",
       "<table border=\"1\" class=\"dataframe\">\n",
       "  <thead>\n",
       "    <tr style=\"text-align: right;\">\n",
       "      <th></th>\n",
       "      <th>TV</th>\n",
       "      <th>radio</th>\n",
       "      <th>newspaper</th>\n",
       "      <th>sales</th>\n",
       "    </tr>\n",
       "  </thead>\n",
       "  <tbody>\n",
       "    <tr>\n",
       "      <th>1</th>\n",
       "      <td>230.1</td>\n",
       "      <td>37.8</td>\n",
       "      <td>69.2</td>\n",
       "      <td>22.1</td>\n",
       "    </tr>\n",
       "    <tr>\n",
       "      <th>2</th>\n",
       "      <td>44.5</td>\n",
       "      <td>39.3</td>\n",
       "      <td>45.1</td>\n",
       "      <td>10.4</td>\n",
       "    </tr>\n",
       "    <tr>\n",
       "      <th>3</th>\n",
       "      <td>17.2</td>\n",
       "      <td>45.9</td>\n",
       "      <td>69.3</td>\n",
       "      <td>9.3</td>\n",
       "    </tr>\n",
       "    <tr>\n",
       "      <th>4</th>\n",
       "      <td>151.5</td>\n",
       "      <td>41.3</td>\n",
       "      <td>58.5</td>\n",
       "      <td>18.5</td>\n",
       "    </tr>\n",
       "    <tr>\n",
       "      <th>5</th>\n",
       "      <td>180.8</td>\n",
       "      <td>10.8</td>\n",
       "      <td>58.4</td>\n",
       "      <td>12.9</td>\n",
       "    </tr>\n",
       "  </tbody>\n",
       "</table>\n",
       "</div>"
      ],
      "text/plain": [
       "      TV  radio  newspaper  sales\n",
       "1  230.1   37.8       69.2   22.1\n",
       "2   44.5   39.3       45.1   10.4\n",
       "3   17.2   45.9       69.3    9.3\n",
       "4  151.5   41.3       58.5   18.5\n",
       "5  180.8   10.8       58.4   12.9"
      ]
     },
     "execution_count": 2,
     "metadata": {},
     "output_type": "execute_result"
    }
   ],
   "source": [
    "import pandas as pd\n",
    "\n",
    "df = pd.read_csv('https://raw.githubusercontent.com/bipulshahi/Dataset/main/Advertising.csv',\n",
    "                 index_col = 0)\n",
    "\n",
    "df.head()"
   ]
  },
  {
   "cell_type": "code",
   "execution_count": 3,
   "id": "d07af64e-2243-4567-a2b4-bc6c8ccf45b8",
   "metadata": {},
   "outputs": [
    {
     "name": "stderr",
     "output_type": "stream",
     "text": [
      "C:\\Users\\gk154\\AppData\\Local\\Temp\\ipykernel_12408\\2652627097.py:2: SettingWithCopyWarning: \n",
      "A value is trying to be set on a copy of a slice from a DataFrame.\n",
      "Try using .loc[row_indexer,col_indexer] = value instead\n",
      "\n",
      "See the caveats in the documentation: https://pandas.pydata.org/pandas-docs/stable/user_guide/indexing.html#returning-a-view-versus-a-copy\n",
      "  X['TVR'] = X.TV * X.radio\n"
     ]
    }
   ],
   "source": [
    "X = df[['TV','radio']]\n",
    "X['TVR'] = X.TV * X.radio\n",
    "\n",
    "Y = df['sales']"
   ]
  },
  {
   "cell_type": "code",
   "execution_count": 4,
   "id": "3f8cdad5-f0d1-4f48-9583-9eefb3c6f672",
   "metadata": {},
   "outputs": [
    {
     "data": {
      "text/html": [
       "<div>\n",
       "<style scoped>\n",
       "    .dataframe tbody tr th:only-of-type {\n",
       "        vertical-align: middle;\n",
       "    }\n",
       "\n",
       "    .dataframe tbody tr th {\n",
       "        vertical-align: top;\n",
       "    }\n",
       "\n",
       "    .dataframe thead th {\n",
       "        text-align: right;\n",
       "    }\n",
       "</style>\n",
       "<table border=\"1\" class=\"dataframe\">\n",
       "  <thead>\n",
       "    <tr style=\"text-align: right;\">\n",
       "      <th></th>\n",
       "      <th>TV</th>\n",
       "      <th>radio</th>\n",
       "      <th>TVR</th>\n",
       "    </tr>\n",
       "  </thead>\n",
       "  <tbody>\n",
       "    <tr>\n",
       "      <th>1</th>\n",
       "      <td>230.1</td>\n",
       "      <td>37.8</td>\n",
       "      <td>8697.78</td>\n",
       "    </tr>\n",
       "    <tr>\n",
       "      <th>2</th>\n",
       "      <td>44.5</td>\n",
       "      <td>39.3</td>\n",
       "      <td>1748.85</td>\n",
       "    </tr>\n",
       "    <tr>\n",
       "      <th>3</th>\n",
       "      <td>17.2</td>\n",
       "      <td>45.9</td>\n",
       "      <td>789.48</td>\n",
       "    </tr>\n",
       "    <tr>\n",
       "      <th>4</th>\n",
       "      <td>151.5</td>\n",
       "      <td>41.3</td>\n",
       "      <td>6256.95</td>\n",
       "    </tr>\n",
       "    <tr>\n",
       "      <th>5</th>\n",
       "      <td>180.8</td>\n",
       "      <td>10.8</td>\n",
       "      <td>1952.64</td>\n",
       "    </tr>\n",
       "  </tbody>\n",
       "</table>\n",
       "</div>"
      ],
      "text/plain": [
       "      TV  radio      TVR\n",
       "1  230.1   37.8  8697.78\n",
       "2   44.5   39.3  1748.85\n",
       "3   17.2   45.9   789.48\n",
       "4  151.5   41.3  6256.95\n",
       "5  180.8   10.8  1952.64"
      ]
     },
     "execution_count": 4,
     "metadata": {},
     "output_type": "execute_result"
    }
   ],
   "source": [
    "X.head()"
   ]
  },
  {
   "cell_type": "code",
   "execution_count": 5,
   "id": "698ba6e8-8604-45b4-88a7-e0a4136ddec7",
   "metadata": {},
   "outputs": [
    {
     "name": "stdout",
     "output_type": "stream",
     "text": [
      "Trained coefficients= [0.02044436 0.03223112 0.00106685] intercept= 6.495246381127702\n",
      "Train mean absolute error 0.7292025552153282\n",
      "Test mean absolute error 0.5727590323913396\n"
     ]
    }
   ],
   "source": [
    "#Split into train & test\n",
    "from sklearn.model_selection import train_test_split\n",
    "xtrain,xtest,ytrain,ytest = train_test_split(X,Y,train_size=0.75)\n",
    "\n",
    "\n",
    "#import alorithm from scikit-learn and train the model\n",
    "from sklearn.linear_model import LinearRegression\n",
    "model1 = LinearRegression()\n",
    "\n",
    "model1.fit(xtrain,ytrain)\n",
    "\n",
    "print(\"Trained coefficients=\" , model1.coef_ , \"intercept=\" , model1.intercept_)\n",
    "\n",
    "#Evaluate model performance\n",
    "ytrainPred = model1.predict(xtrain)\n",
    "ytestPred = model1.predict(xtest)\n",
    "\n",
    "print(\"Train mean absolute error\" , abs(ytrain - ytrainPred).mean())\n",
    "print(\"Test mean absolute error\" , abs(ytest - ytestPred).mean())"
   ]
  },
  {
   "cell_type": "markdown",
   "id": "d70e2170-b1d8-4403-9ae5-b796f12dcd09",
   "metadata": {},
   "source": [
    "**Non-Linear Regression of degree 2**"
   ]
  },
  {
   "cell_type": "code",
   "execution_count": 6,
   "id": "71422d14-f3f7-46ac-b1b3-d712f3a6837b",
   "metadata": {},
   "outputs": [
    {
     "data": {
      "text/plain": [
       "array([[3],\n",
       "       [2],\n",
       "       [4],\n",
       "       [5],\n",
       "       [6]])"
      ]
     },
     "execution_count": 6,
     "metadata": {},
     "output_type": "execute_result"
    }
   ],
   "source": [
    "import numpy as np\n",
    "\n",
    "n1 = np.random.randint(1,9,(5,1))\n",
    "n1"
   ]
  },
  {
   "cell_type": "code",
   "execution_count": 7,
   "id": "8f9842dd-7c99-4ed5-be6c-95514302a9c2",
   "metadata": {},
   "outputs": [
    {
     "data": {
      "text/plain": [
       "array([[ 3.,  9.],\n",
       "       [ 2.,  4.],\n",
       "       [ 4., 16.],\n",
       "       [ 5., 25.],\n",
       "       [ 6., 36.]])"
      ]
     },
     "execution_count": 7,
     "metadata": {},
     "output_type": "execute_result"
    }
   ],
   "source": [
    "from sklearn.preprocessing import PolynomialFeatures\n",
    "pol1 = PolynomialFeatures(degree=2,include_bias=False)\n",
    "\n",
    "pol1.fit_transform(n1)"
   ]
  },
  {
   "cell_type": "code",
   "execution_count": 8,
   "id": "f949db34-9f68-4923-8ef7-e0d70c5b2899",
   "metadata": {},
   "outputs": [
    {
     "data": {
      "text/plain": [
       "array([[  3.,   9.,  27.],\n",
       "       [  2.,   4.,   8.],\n",
       "       [  4.,  16.,  64.],\n",
       "       [  5.,  25., 125.],\n",
       "       [  6.,  36., 216.]])"
      ]
     },
     "execution_count": 8,
     "metadata": {},
     "output_type": "execute_result"
    }
   ],
   "source": [
    "pol2 = PolynomialFeatures(degree=3,include_bias=False)\n",
    "\n",
    "pol2.fit_transform(n1)"
   ]
  },
  {
   "cell_type": "code",
   "execution_count": 9,
   "id": "203fbbd5-7ddc-440a-bc7a-57518e0c3ee6",
   "metadata": {},
   "outputs": [
    {
     "data": {
      "text/plain": [
       "array([[4, 1],\n",
       "       [1, 8],\n",
       "       [1, 8],\n",
       "       [4, 8],\n",
       "       [6, 1]])"
      ]
     },
     "execution_count": 9,
     "metadata": {},
     "output_type": "execute_result"
    }
   ],
   "source": [
    "n2 = np.random.randint(1,9,(5,2))\n",
    "n2"
   ]
  },
  {
   "cell_type": "code",
   "execution_count": 10,
   "id": "8d25b679-b53b-45de-9d42-916077390b12",
   "metadata": {},
   "outputs": [
    {
     "data": {
      "text/plain": [
       "array([[ 4.,  1., 16.,  4.,  1.],\n",
       "       [ 1.,  8.,  1.,  8., 64.],\n",
       "       [ 1.,  8.,  1.,  8., 64.],\n",
       "       [ 4.,  8., 16., 32., 64.],\n",
       "       [ 6.,  1., 36.,  6.,  1.]])"
      ]
     },
     "execution_count": 10,
     "metadata": {},
     "output_type": "execute_result"
    }
   ],
   "source": [
    "pol3 = PolynomialFeatures(degree=2,include_bias=False)\n",
    "\n",
    "pol3.fit_transform(n2)"
   ]
  },
  {
   "cell_type": "code",
   "execution_count": 11,
   "id": "628fd5c9-7d85-403d-b6e3-253f0b7bf70e",
   "metadata": {},
   "outputs": [
    {
     "data": {
      "text/plain": [
       "array([[  4.,   1.,  16.,   4.,   1.,  64.,  16.,   4.,   1.],\n",
       "       [  1.,   8.,   1.,   8.,  64.,   1.,   8.,  64., 512.],\n",
       "       [  1.,   8.,   1.,   8.,  64.,   1.,   8.,  64., 512.],\n",
       "       [  4.,   8.,  16.,  32.,  64.,  64., 128., 256., 512.],\n",
       "       [  6.,   1.,  36.,   6.,   1., 216.,  36.,   6.,   1.]])"
      ]
     },
     "execution_count": 11,
     "metadata": {},
     "output_type": "execute_result"
    }
   ],
   "source": [
    "pol4 = PolynomialFeatures(degree=3,include_bias=False)\n",
    "\n",
    "pol4.fit_transform(n2)"
   ]
  },
  {
   "cell_type": "markdown",
   "id": "46a75007-1852-4886-a83b-e6bae65d3f04",
   "metadata": {},
   "source": [
    "**Non-Linear Regression on advertising data**"
   ]
  },
  {
   "cell_type": "code",
   "execution_count": 12,
   "id": "48054920-73e7-40d3-9b38-3d471dd063db",
   "metadata": {},
   "outputs": [
    {
     "data": {
      "text/html": [
       "<div>\n",
       "<style scoped>\n",
       "    .dataframe tbody tr th:only-of-type {\n",
       "        vertical-align: middle;\n",
       "    }\n",
       "\n",
       "    .dataframe tbody tr th {\n",
       "        vertical-align: top;\n",
       "    }\n",
       "\n",
       "    .dataframe thead th {\n",
       "        text-align: right;\n",
       "    }\n",
       "</style>\n",
       "<table border=\"1\" class=\"dataframe\">\n",
       "  <thead>\n",
       "    <tr style=\"text-align: right;\">\n",
       "      <th></th>\n",
       "      <th>TV</th>\n",
       "      <th>radio</th>\n",
       "      <th>newspaper</th>\n",
       "      <th>sales</th>\n",
       "    </tr>\n",
       "  </thead>\n",
       "  <tbody>\n",
       "    <tr>\n",
       "      <th>1</th>\n",
       "      <td>230.1</td>\n",
       "      <td>37.8</td>\n",
       "      <td>69.2</td>\n",
       "      <td>22.1</td>\n",
       "    </tr>\n",
       "    <tr>\n",
       "      <th>2</th>\n",
       "      <td>44.5</td>\n",
       "      <td>39.3</td>\n",
       "      <td>45.1</td>\n",
       "      <td>10.4</td>\n",
       "    </tr>\n",
       "    <tr>\n",
       "      <th>3</th>\n",
       "      <td>17.2</td>\n",
       "      <td>45.9</td>\n",
       "      <td>69.3</td>\n",
       "      <td>9.3</td>\n",
       "    </tr>\n",
       "    <tr>\n",
       "      <th>4</th>\n",
       "      <td>151.5</td>\n",
       "      <td>41.3</td>\n",
       "      <td>58.5</td>\n",
       "      <td>18.5</td>\n",
       "    </tr>\n",
       "    <tr>\n",
       "      <th>5</th>\n",
       "      <td>180.8</td>\n",
       "      <td>10.8</td>\n",
       "      <td>58.4</td>\n",
       "      <td>12.9</td>\n",
       "    </tr>\n",
       "  </tbody>\n",
       "</table>\n",
       "</div>"
      ],
      "text/plain": [
       "      TV  radio  newspaper  sales\n",
       "1  230.1   37.8       69.2   22.1\n",
       "2   44.5   39.3       45.1   10.4\n",
       "3   17.2   45.9       69.3    9.3\n",
       "4  151.5   41.3       58.5   18.5\n",
       "5  180.8   10.8       58.4   12.9"
      ]
     },
     "execution_count": 12,
     "metadata": {},
     "output_type": "execute_result"
    }
   ],
   "source": [
    "df.head()"
   ]
  },
  {
   "cell_type": "code",
   "execution_count": 13,
   "id": "49afa639-3998-4cb9-b08f-70a6f4af7702",
   "metadata": {},
   "outputs": [],
   "source": [
    "X = df[['TV','radio']]\n",
    "Y = df['sales']"
   ]
  },
  {
   "cell_type": "code",
   "execution_count": 14,
   "id": "05057a7c-5ca9-4221-95cc-335b96f32350",
   "metadata": {},
   "outputs": [],
   "source": [
    "from sklearn.model_selection import train_test_split\n",
    "xtrain,xtest,ytrain,ytest = train_test_split(X,Y,train_size=0.75)"
   ]
  },
  {
   "cell_type": "code",
   "execution_count": 15,
   "id": "59c94bf9-0d67-489f-9d41-b7d28ef2e601",
   "metadata": {},
   "outputs": [],
   "source": [
    "from sklearn.preprocessing import PolynomialFeatures\n",
    "pol = PolynomialFeatures(degree = 2, include_bias=False)\n",
    "\n",
    "pol.fit(xtrain)\n",
    "\n",
    "xtrainPol = pol.transform(xtrain)\n",
    "xtestPol = pol.transform(xtest)"
   ]
  },
  {
   "cell_type": "code",
   "execution_count": 16,
   "id": "42a4bea8-0840-442b-8ad5-a59d06066535",
   "metadata": {},
   "outputs": [
    {
     "name": "stdout",
     "output_type": "stream",
     "text": [
      "(150, 2)\n",
      "(150, 5)\n"
     ]
    }
   ],
   "source": [
    "print(xtrain.shape)\n",
    "print(xtrainPol.shape)"
   ]
  },
  {
   "cell_type": "code",
   "execution_count": 17,
   "id": "f87011fa-0ead-4c76-88cb-c8dcd8cece9b",
   "metadata": {},
   "outputs": [
    {
     "name": "stdout",
     "output_type": "stream",
     "text": [
      "[ 0.05254062  0.02123818 -0.00011457  0.00107359  0.00028045]\n"
     ]
    }
   ],
   "source": [
    "#Train the model using xtrainPol & ytrain\n",
    "\n",
    "from sklearn.linear_model import LinearRegression\n",
    "model2 = LinearRegression()\n",
    "model2.fit(xtrainPol,ytrain)\n",
    "\n",
    "print(model2.coef_)\n",
    "#Evaluate model performance\n",
    "\n",
    "ytrainPred = model2.predict(xtrainPol)\n",
    "ytestPred = model2.predict(xtestPol)"
   ]
  },
  {
   "cell_type": "code",
   "execution_count": 18,
   "id": "ef9183ae-efeb-4915-bbc6-bd81530bb9a0",
   "metadata": {},
   "outputs": [
    {
     "name": "stdout",
     "output_type": "stream",
     "text": [
      "Train mean absolute error 0.4080646244356727\n",
      "Test mean absolute error 0.4760040379627665\n"
     ]
    }
   ],
   "source": [
    "#Evaluate performance\n",
    "print(\"Train mean absolute error\" , abs(ytrain - ytrainPred).mean())\n",
    "print(\"Test mean absolute error\" , abs(ytest - ytestPred).mean())"
   ]
  },
  {
   "cell_type": "code",
   "execution_count": null,
   "id": "abfecd29-fd0f-46d4-96a9-f1eb5ded5e37",
   "metadata": {},
   "outputs": [],
   "source": []
  }
 ],
 "metadata": {
  "kernelspec": {
   "display_name": "Python 3 (ipykernel)",
   "language": "python",
   "name": "python3"
  },
  "language_info": {
   "codemirror_mode": {
    "name": "ipython",
    "version": 3
   },
   "file_extension": ".py",
   "mimetype": "text/x-python",
   "name": "python",
   "nbconvert_exporter": "python",
   "pygments_lexer": "ipython3",
   "version": "3.11.8"
  }
 },
 "nbformat": 4,
 "nbformat_minor": 5
}
